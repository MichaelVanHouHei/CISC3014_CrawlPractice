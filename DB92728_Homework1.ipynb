{
  "nbformat": 4,
  "nbformat_minor": 0,
  "metadata": {
    "colab": {
      "provenance": [],
      "collapsed_sections": []
    },
    "kernelspec": {
      "name": "python3",
      "display_name": "Python 3"
    },
    "language_info": {
      "name": "python"
    }
  },
  "cells": [
    {
      "cell_type": "markdown",
      "source": [
        "# Question 1"
      ],
      "metadata": {
        "id": "ZqTPYGAniMB9"
      }
    },
    {
      "cell_type": "markdown",
      "source": [
        "Build an IR system based on vector space model.\n",
        "\n",
        "Requirement:\n",
        "\n",
        "(1) Input: A query string\n",
        "\n",
        "(2) Output: Top 3 relevant document ID\n",
        "\n",
        "(3) Please use the documents under the folder “documents” as the document collection\n",
        "to build vocabulary\n",
        "\n",
        "(4) Return the results of the following queries:\n",
        "[1] University of Macau\n",
        "[2] Gambling Game\n",
        "[3] American Football Game"
      ],
      "metadata": {
        "id": "P_nYDcyJiLA2"
      }
    },
    {
      "cell_type": "code",
      "source": [
        "#include os library , since we need to use os.path\n",
        "import os\n",
        "# find the path o = osf the file\n",
        "root = os.path.abspath('.')\n",
        "print(root)\n",
        "\n",
        "# concatenate paths\n",
        "doc_path = os.path.join(root, 'documents')\n",
        "print(doc_path)\n",
        "\n",
        "# return directory tree\n",
        "for root, dirs, files in os.walk(doc_path):\n",
        "    for file_name in files:\n",
        "        print(file_name)"
      ],
      "metadata": {
        "colab": {
          "base_uri": "https://localhost:8080/"
        },
        "id": "d8BRpSsGn2h9",
        "outputId": "86668b96-cc87-4d81-d567-c98ae85f34ab"
      },
      "execution_count": 1,
      "outputs": [
        {
          "output_type": "stream",
          "name": "stdout",
          "text": [
            "/content\n",
            "/content/documents\n",
            "doc6.txt\n",
            "doc2.txt\n",
            "doc3.txt\n",
            "doc4.txt\n",
            "doc10.txt\n",
            "doc8.txt\n",
            "doc5.txt\n",
            "doc9.txt\n",
            "doc1.txt\n",
            "doc7.txt\n"
          ]
        }
      ]
    },
    {
      "cell_type": "code",
      "source": [
        "#define a read file io function\n",
        "def read_file(path):\n",
        "   #using with to auto collect in i/o in memory , since we have to release it \n",
        "    with open(path, 'r') as f:\n",
        "        content = f.readlines()\n",
        "    return content"
      ],
      "metadata": {
        "id": "fYCZjyrroj30"
      },
      "execution_count": 3,
      "outputs": []
    },
    {
      "cell_type": "code",
      "source": [
        "import re\n",
        "def tokenize(doc):\n",
        "    # remove punctuation by using this regex\n",
        "    rule = r'[\\s\\~\\`\\!\\@\\#\\$\\%\\^\\&\\*\\(\\)\\-\\_\\+\\=\\{\\}\\[\\]\\;\\:\\'\\\"\\,\\<\\.\\>\\/\\?\\\\|]+'\n",
        "    re.compile(rule)\n",
        "    \n",
        "    # put the words in list\n",
        "    terms_ = []\n",
        "    for line in doc:\n",
        "        terms_ = terms_ + re.split(rule, line.lower())\n",
        "    \n",
        "    # remove ' '\n",
        "    terms = []\n",
        "    for term in terms_:\n",
        "        if term != '':\n",
        "            terms.append(term)\n",
        "    return terms"
      ],
      "metadata": {
        "id": "ZcFA5CEZot9q"
      },
      "execution_count": 2,
      "outputs": []
    },
    {
      "cell_type": "code",
      "source": [
        "from collections import Counter"
      ],
      "metadata": {
        "id": "rj_Iy388q3d6"
      },
      "execution_count": 9,
      "outputs": []
    },
    {
      "cell_type": "code",
      "source": [
        "def processing(path):\n",
        "    # read file\n",
        "    doc = read_file(path)\n",
        "    # tokenize\n",
        "    terms = tokenize(doc)\n",
        "    # count term frequency\n",
        "    term_freq = Counter(terms)\n",
        "    return dict(term_freq)"
      ],
      "metadata": {
        "id": "4KfEQIfOpjII"
      },
      "execution_count": 7,
      "outputs": []
    },
    {
      "cell_type": "code",
      "source": [
        "root = os.path.abspath('.')\n",
        "#denote that we know our files are doc1 ~ 11 , so that\n",
        "# load all files in for loop\n",
        "termFreqs = []\n",
        "for i in range(1,11):\n",
        "  termFreqs.append(processing(os.path.join(root, 'documents', 'doc'+str(i)+'.txt'))) \n",
        "   #eval it by dynamic , so below we can easily use it without define again\n",
        "  #exec(\"termFreq\" + str(i) + \" = processing(os.path.join(root, 'documents', 'doc'+str(i)+'.txt'))\")\n"
      ],
      "metadata": {
        "id": "9fnTFnuypjN8"
      },
      "execution_count": 37,
      "outputs": []
    },
    {
      "cell_type": "code",
      "source": [
        "# build vocabulary extract all keys(terms)\n",
        "#print(termFreqs[0].keys())\n",
        "vocab = set().union(*(d.keys() for d in termFreqs)) # projection for all the dicts keys to a single list \n"
      ],
      "metadata": {
        "id": "HpPWQftzqEcn"
      },
      "execution_count": 48,
      "outputs": []
    },
    {
      "cell_type": "code",
      "source": [
        "len(vocab)"
      ],
      "metadata": {
        "colab": {
          "base_uri": "https://localhost:8080/"
        },
        "id": "N8b1pfZjuXI3",
        "outputId": "feb3405b-3134-4db1-fce9-ac2da99c41c6"
      },
      "execution_count": 45,
      "outputs": [
        {
          "output_type": "execute_result",
          "data": {
            "text/plain": [
              "687"
            ]
          },
          "metadata": {},
          "execution_count": 45
        }
      ]
    },
    {
      "cell_type": "code",
      "source": [
        "# build term-doc tf-idf matrix\n",
        "import numpy as np\n",
        "import pandas as pd\n",
        "\n",
        "# initialize with 0\n",
        "tfidf_mat = pd.DataFrame(np.zeros((len(vocab), 10)), index = vocab)\n",
        "tfidf_mat"
      ],
      "metadata": {
        "colab": {
          "base_uri": "https://localhost:8080/",
          "height": 424
        },
        "id": "jQDwJNvlx48D",
        "outputId": "5da9c953-46e6-4a62-f937-259485dfbe6f"
      },
      "execution_count": 46,
      "outputs": [
        {
          "output_type": "execute_result",
          "data": {
            "text/plain": [
              "              0    1    2    3    4    5    6    7    8    9\n",
              "comparable  0.0  0.0  0.0  0.0  0.0  0.0  0.0  0.0  0.0  0.0\n",
              "2005        0.0  0.0  0.0  0.0  0.0  0.0  0.0  0.0  0.0  0.0\n",
              "most        0.0  0.0  0.0  0.0  0.0  0.0  0.0  0.0  0.0  0.0\n",
              "grand       0.0  0.0  0.0  0.0  0.0  0.0  0.0  0.0  0.0  0.0\n",
              "work        0.0  0.0  0.0  0.0  0.0  0.0  0.0  0.0  0.0  0.0\n",
              "...         ...  ...  ...  ...  ...  ...  ...  ...  ...  ...\n",
              "1           0.0  0.0  0.0  0.0  0.0  0.0  0.0  0.0  0.0  0.0\n",
              "centers     0.0  0.0  0.0  0.0  0.0  0.0  0.0  0.0  0.0  0.0\n",
              "various     0.0  0.0  0.0  0.0  0.0  0.0  0.0  0.0  0.0  0.0\n",
              "what        0.0  0.0  0.0  0.0  0.0  0.0  0.0  0.0  0.0  0.0\n",
              "mainland    0.0  0.0  0.0  0.0  0.0  0.0  0.0  0.0  0.0  0.0\n",
              "\n",
              "[687 rows x 10 columns]"
            ],
            "text/html": [
              "\n",
              "  <div id=\"df-ed15fc2e-7926-4851-8c3a-7164ea4ddf0b\">\n",
              "    <div class=\"colab-df-container\">\n",
              "      <div>\n",
              "<style scoped>\n",
              "    .dataframe tbody tr th:only-of-type {\n",
              "        vertical-align: middle;\n",
              "    }\n",
              "\n",
              "    .dataframe tbody tr th {\n",
              "        vertical-align: top;\n",
              "    }\n",
              "\n",
              "    .dataframe thead th {\n",
              "        text-align: right;\n",
              "    }\n",
              "</style>\n",
              "<table border=\"1\" class=\"dataframe\">\n",
              "  <thead>\n",
              "    <tr style=\"text-align: right;\">\n",
              "      <th></th>\n",
              "      <th>0</th>\n",
              "      <th>1</th>\n",
              "      <th>2</th>\n",
              "      <th>3</th>\n",
              "      <th>4</th>\n",
              "      <th>5</th>\n",
              "      <th>6</th>\n",
              "      <th>7</th>\n",
              "      <th>8</th>\n",
              "      <th>9</th>\n",
              "    </tr>\n",
              "  </thead>\n",
              "  <tbody>\n",
              "    <tr>\n",
              "      <th>comparable</th>\n",
              "      <td>0.0</td>\n",
              "      <td>0.0</td>\n",
              "      <td>0.0</td>\n",
              "      <td>0.0</td>\n",
              "      <td>0.0</td>\n",
              "      <td>0.0</td>\n",
              "      <td>0.0</td>\n",
              "      <td>0.0</td>\n",
              "      <td>0.0</td>\n",
              "      <td>0.0</td>\n",
              "    </tr>\n",
              "    <tr>\n",
              "      <th>2005</th>\n",
              "      <td>0.0</td>\n",
              "      <td>0.0</td>\n",
              "      <td>0.0</td>\n",
              "      <td>0.0</td>\n",
              "      <td>0.0</td>\n",
              "      <td>0.0</td>\n",
              "      <td>0.0</td>\n",
              "      <td>0.0</td>\n",
              "      <td>0.0</td>\n",
              "      <td>0.0</td>\n",
              "    </tr>\n",
              "    <tr>\n",
              "      <th>most</th>\n",
              "      <td>0.0</td>\n",
              "      <td>0.0</td>\n",
              "      <td>0.0</td>\n",
              "      <td>0.0</td>\n",
              "      <td>0.0</td>\n",
              "      <td>0.0</td>\n",
              "      <td>0.0</td>\n",
              "      <td>0.0</td>\n",
              "      <td>0.0</td>\n",
              "      <td>0.0</td>\n",
              "    </tr>\n",
              "    <tr>\n",
              "      <th>grand</th>\n",
              "      <td>0.0</td>\n",
              "      <td>0.0</td>\n",
              "      <td>0.0</td>\n",
              "      <td>0.0</td>\n",
              "      <td>0.0</td>\n",
              "      <td>0.0</td>\n",
              "      <td>0.0</td>\n",
              "      <td>0.0</td>\n",
              "      <td>0.0</td>\n",
              "      <td>0.0</td>\n",
              "    </tr>\n",
              "    <tr>\n",
              "      <th>work</th>\n",
              "      <td>0.0</td>\n",
              "      <td>0.0</td>\n",
              "      <td>0.0</td>\n",
              "      <td>0.0</td>\n",
              "      <td>0.0</td>\n",
              "      <td>0.0</td>\n",
              "      <td>0.0</td>\n",
              "      <td>0.0</td>\n",
              "      <td>0.0</td>\n",
              "      <td>0.0</td>\n",
              "    </tr>\n",
              "    <tr>\n",
              "      <th>...</th>\n",
              "      <td>...</td>\n",
              "      <td>...</td>\n",
              "      <td>...</td>\n",
              "      <td>...</td>\n",
              "      <td>...</td>\n",
              "      <td>...</td>\n",
              "      <td>...</td>\n",
              "      <td>...</td>\n",
              "      <td>...</td>\n",
              "      <td>...</td>\n",
              "    </tr>\n",
              "    <tr>\n",
              "      <th>1</th>\n",
              "      <td>0.0</td>\n",
              "      <td>0.0</td>\n",
              "      <td>0.0</td>\n",
              "      <td>0.0</td>\n",
              "      <td>0.0</td>\n",
              "      <td>0.0</td>\n",
              "      <td>0.0</td>\n",
              "      <td>0.0</td>\n",
              "      <td>0.0</td>\n",
              "      <td>0.0</td>\n",
              "    </tr>\n",
              "    <tr>\n",
              "      <th>centers</th>\n",
              "      <td>0.0</td>\n",
              "      <td>0.0</td>\n",
              "      <td>0.0</td>\n",
              "      <td>0.0</td>\n",
              "      <td>0.0</td>\n",
              "      <td>0.0</td>\n",
              "      <td>0.0</td>\n",
              "      <td>0.0</td>\n",
              "      <td>0.0</td>\n",
              "      <td>0.0</td>\n",
              "    </tr>\n",
              "    <tr>\n",
              "      <th>various</th>\n",
              "      <td>0.0</td>\n",
              "      <td>0.0</td>\n",
              "      <td>0.0</td>\n",
              "      <td>0.0</td>\n",
              "      <td>0.0</td>\n",
              "      <td>0.0</td>\n",
              "      <td>0.0</td>\n",
              "      <td>0.0</td>\n",
              "      <td>0.0</td>\n",
              "      <td>0.0</td>\n",
              "    </tr>\n",
              "    <tr>\n",
              "      <th>what</th>\n",
              "      <td>0.0</td>\n",
              "      <td>0.0</td>\n",
              "      <td>0.0</td>\n",
              "      <td>0.0</td>\n",
              "      <td>0.0</td>\n",
              "      <td>0.0</td>\n",
              "      <td>0.0</td>\n",
              "      <td>0.0</td>\n",
              "      <td>0.0</td>\n",
              "      <td>0.0</td>\n",
              "    </tr>\n",
              "    <tr>\n",
              "      <th>mainland</th>\n",
              "      <td>0.0</td>\n",
              "      <td>0.0</td>\n",
              "      <td>0.0</td>\n",
              "      <td>0.0</td>\n",
              "      <td>0.0</td>\n",
              "      <td>0.0</td>\n",
              "      <td>0.0</td>\n",
              "      <td>0.0</td>\n",
              "      <td>0.0</td>\n",
              "      <td>0.0</td>\n",
              "    </tr>\n",
              "  </tbody>\n",
              "</table>\n",
              "<p>687 rows × 10 columns</p>\n",
              "</div>\n",
              "      <button class=\"colab-df-convert\" onclick=\"convertToInteractive('df-ed15fc2e-7926-4851-8c3a-7164ea4ddf0b')\"\n",
              "              title=\"Convert this dataframe to an interactive table.\"\n",
              "              style=\"display:none;\">\n",
              "        \n",
              "  <svg xmlns=\"http://www.w3.org/2000/svg\" height=\"24px\"viewBox=\"0 0 24 24\"\n",
              "       width=\"24px\">\n",
              "    <path d=\"M0 0h24v24H0V0z\" fill=\"none\"/>\n",
              "    <path d=\"M18.56 5.44l.94 2.06.94-2.06 2.06-.94-2.06-.94-.94-2.06-.94 2.06-2.06.94zm-11 1L8.5 8.5l.94-2.06 2.06-.94-2.06-.94L8.5 2.5l-.94 2.06-2.06.94zm10 10l.94 2.06.94-2.06 2.06-.94-2.06-.94-.94-2.06-.94 2.06-2.06.94z\"/><path d=\"M17.41 7.96l-1.37-1.37c-.4-.4-.92-.59-1.43-.59-.52 0-1.04.2-1.43.59L10.3 9.45l-7.72 7.72c-.78.78-.78 2.05 0 2.83L4 21.41c.39.39.9.59 1.41.59.51 0 1.02-.2 1.41-.59l7.78-7.78 2.81-2.81c.8-.78.8-2.07 0-2.86zM5.41 20L4 18.59l7.72-7.72 1.47 1.35L5.41 20z\"/>\n",
              "  </svg>\n",
              "      </button>\n",
              "      \n",
              "  <style>\n",
              "    .colab-df-container {\n",
              "      display:flex;\n",
              "      flex-wrap:wrap;\n",
              "      gap: 12px;\n",
              "    }\n",
              "\n",
              "    .colab-df-convert {\n",
              "      background-color: #E8F0FE;\n",
              "      border: none;\n",
              "      border-radius: 50%;\n",
              "      cursor: pointer;\n",
              "      display: none;\n",
              "      fill: #1967D2;\n",
              "      height: 32px;\n",
              "      padding: 0 0 0 0;\n",
              "      width: 32px;\n",
              "    }\n",
              "\n",
              "    .colab-df-convert:hover {\n",
              "      background-color: #E2EBFA;\n",
              "      box-shadow: 0px 1px 2px rgba(60, 64, 67, 0.3), 0px 1px 3px 1px rgba(60, 64, 67, 0.15);\n",
              "      fill: #174EA6;\n",
              "    }\n",
              "\n",
              "    [theme=dark] .colab-df-convert {\n",
              "      background-color: #3B4455;\n",
              "      fill: #D2E3FC;\n",
              "    }\n",
              "\n",
              "    [theme=dark] .colab-df-convert:hover {\n",
              "      background-color: #434B5C;\n",
              "      box-shadow: 0px 1px 3px 1px rgba(0, 0, 0, 0.15);\n",
              "      filter: drop-shadow(0px 1px 2px rgba(0, 0, 0, 0.3));\n",
              "      fill: #FFFFFF;\n",
              "    }\n",
              "  </style>\n",
              "\n",
              "      <script>\n",
              "        const buttonEl =\n",
              "          document.querySelector('#df-ed15fc2e-7926-4851-8c3a-7164ea4ddf0b button.colab-df-convert');\n",
              "        buttonEl.style.display =\n",
              "          google.colab.kernel.accessAllowed ? 'block' : 'none';\n",
              "\n",
              "        async function convertToInteractive(key) {\n",
              "          const element = document.querySelector('#df-ed15fc2e-7926-4851-8c3a-7164ea4ddf0b');\n",
              "          const dataTable =\n",
              "            await google.colab.kernel.invokeFunction('convertToInteractive',\n",
              "                                                     [key], {});\n",
              "          if (!dataTable) return;\n",
              "\n",
              "          const docLinkHtml = 'Like what you see? Visit the ' +\n",
              "            '<a target=\"_blank\" href=https://colab.research.google.com/notebooks/data_table.ipynb>data table notebook</a>'\n",
              "            + ' to learn more about interactive tables.';\n",
              "          element.innerHTML = '';\n",
              "          dataTable['output_type'] = 'display_data';\n",
              "          await google.colab.output.renderOutput(dataTable, element);\n",
              "          const docLink = document.createElement('div');\n",
              "          docLink.innerHTML = docLinkHtml;\n",
              "          element.appendChild(docLink);\n",
              "        }\n",
              "      </script>\n",
              "    </div>\n",
              "  </div>\n",
              "  "
            ]
          },
          "metadata": {},
          "execution_count": 46
        }
      ]
    },
    {
      "cell_type": "code",
      "source": [
        "# putting the term freq in the matrix\n",
        "i=0\n",
        "for termDict in termFreqs:\n",
        "    for key, value in termDict.items():\n",
        "        tfidf_mat.loc[key, i] = value\n",
        "    i+=1\n"
      ],
      "metadata": {
        "id": "_u_GaYcSyv4U"
      },
      "execution_count": 49,
      "outputs": []
    },
    {
      "cell_type": "code",
      "source": [
        "tfidf_mat"
      ],
      "metadata": {
        "colab": {
          "base_uri": "https://localhost:8080/",
          "height": 655
        },
        "id": "93VeVI97yysW",
        "outputId": "9a1eabfc-ea35-482f-aaeb-b34c41b95522"
      },
      "execution_count": 50,
      "outputs": [
        {
          "output_type": "execute_result",
          "data": {
            "text/plain": [
              "              0    1    2    3    4    5    6    7    8    9\n",
              "comparable  0.0  0.0  0.0  1.0  0.0  0.0  0.0  0.0  0.0  0.0\n",
              "2005        0.0  0.0  0.0  0.0  0.0  0.0  1.0  0.0  0.0  1.0\n",
              "most        0.0  0.0  1.0  1.0  0.0  2.0  1.0  1.0  1.0  1.0\n",
              "grand       0.0  0.0  0.0  0.0  0.0  0.0  0.0  0.0  0.0  5.0\n",
              "work        0.0  0.0  0.0  1.0  0.0  0.0  0.0  0.0  0.0  0.0\n",
              "...         ...  ...  ...  ...  ...  ...  ...  ...  ...  ...\n",
              "1           0.0  0.0  0.0  0.0  0.0  0.0  1.0  0.0  0.0  1.0\n",
              "centers     0.0  0.0  0.0  0.0  0.0  0.0  0.0  0.0  1.0  0.0\n",
              "various     0.0  0.0  0.0  1.0  0.0  0.0  0.0  0.0  0.0  0.0\n",
              "what        0.0  0.0  0.0  0.0  2.0  0.0  0.0  0.0  0.0  0.0\n",
              "mainland    0.0  0.0  0.0  0.0  0.0  0.0  0.0  0.0  1.0  0.0\n",
              "\n",
              "[687 rows x 10 columns]"
            ],
            "text/html": [
              "\n",
              "  <div id=\"df-ac26ee53-d413-4af7-ac89-a50a04ecaddb\">\n",
              "    <div class=\"colab-df-container\">\n",
              "      <div>\n",
              "<style scoped>\n",
              "    .dataframe tbody tr th:only-of-type {\n",
              "        vertical-align: middle;\n",
              "    }\n",
              "\n",
              "    .dataframe tbody tr th {\n",
              "        vertical-align: top;\n",
              "    }\n",
              "\n",
              "    .dataframe thead th {\n",
              "        text-align: right;\n",
              "    }\n",
              "</style>\n",
              "<table border=\"1\" class=\"dataframe\">\n",
              "  <thead>\n",
              "    <tr style=\"text-align: right;\">\n",
              "      <th></th>\n",
              "      <th>0</th>\n",
              "      <th>1</th>\n",
              "      <th>2</th>\n",
              "      <th>3</th>\n",
              "      <th>4</th>\n",
              "      <th>5</th>\n",
              "      <th>6</th>\n",
              "      <th>7</th>\n",
              "      <th>8</th>\n",
              "      <th>9</th>\n",
              "    </tr>\n",
              "  </thead>\n",
              "  <tbody>\n",
              "    <tr>\n",
              "      <th>comparable</th>\n",
              "      <td>0.0</td>\n",
              "      <td>0.0</td>\n",
              "      <td>0.0</td>\n",
              "      <td>1.0</td>\n",
              "      <td>0.0</td>\n",
              "      <td>0.0</td>\n",
              "      <td>0.0</td>\n",
              "      <td>0.0</td>\n",
              "      <td>0.0</td>\n",
              "      <td>0.0</td>\n",
              "    </tr>\n",
              "    <tr>\n",
              "      <th>2005</th>\n",
              "      <td>0.0</td>\n",
              "      <td>0.0</td>\n",
              "      <td>0.0</td>\n",
              "      <td>0.0</td>\n",
              "      <td>0.0</td>\n",
              "      <td>0.0</td>\n",
              "      <td>1.0</td>\n",
              "      <td>0.0</td>\n",
              "      <td>0.0</td>\n",
              "      <td>1.0</td>\n",
              "    </tr>\n",
              "    <tr>\n",
              "      <th>most</th>\n",
              "      <td>0.0</td>\n",
              "      <td>0.0</td>\n",
              "      <td>1.0</td>\n",
              "      <td>1.0</td>\n",
              "      <td>0.0</td>\n",
              "      <td>2.0</td>\n",
              "      <td>1.0</td>\n",
              "      <td>1.0</td>\n",
              "      <td>1.0</td>\n",
              "      <td>1.0</td>\n",
              "    </tr>\n",
              "    <tr>\n",
              "      <th>grand</th>\n",
              "      <td>0.0</td>\n",
              "      <td>0.0</td>\n",
              "      <td>0.0</td>\n",
              "      <td>0.0</td>\n",
              "      <td>0.0</td>\n",
              "      <td>0.0</td>\n",
              "      <td>0.0</td>\n",
              "      <td>0.0</td>\n",
              "      <td>0.0</td>\n",
              "      <td>5.0</td>\n",
              "    </tr>\n",
              "    <tr>\n",
              "      <th>work</th>\n",
              "      <td>0.0</td>\n",
              "      <td>0.0</td>\n",
              "      <td>0.0</td>\n",
              "      <td>1.0</td>\n",
              "      <td>0.0</td>\n",
              "      <td>0.0</td>\n",
              "      <td>0.0</td>\n",
              "      <td>0.0</td>\n",
              "      <td>0.0</td>\n",
              "      <td>0.0</td>\n",
              "    </tr>\n",
              "    <tr>\n",
              "      <th>...</th>\n",
              "      <td>...</td>\n",
              "      <td>...</td>\n",
              "      <td>...</td>\n",
              "      <td>...</td>\n",
              "      <td>...</td>\n",
              "      <td>...</td>\n",
              "      <td>...</td>\n",
              "      <td>...</td>\n",
              "      <td>...</td>\n",
              "      <td>...</td>\n",
              "    </tr>\n",
              "    <tr>\n",
              "      <th>1</th>\n",
              "      <td>0.0</td>\n",
              "      <td>0.0</td>\n",
              "      <td>0.0</td>\n",
              "      <td>0.0</td>\n",
              "      <td>0.0</td>\n",
              "      <td>0.0</td>\n",
              "      <td>1.0</td>\n",
              "      <td>0.0</td>\n",
              "      <td>0.0</td>\n",
              "      <td>1.0</td>\n",
              "    </tr>\n",
              "    <tr>\n",
              "      <th>centers</th>\n",
              "      <td>0.0</td>\n",
              "      <td>0.0</td>\n",
              "      <td>0.0</td>\n",
              "      <td>0.0</td>\n",
              "      <td>0.0</td>\n",
              "      <td>0.0</td>\n",
              "      <td>0.0</td>\n",
              "      <td>0.0</td>\n",
              "      <td>1.0</td>\n",
              "      <td>0.0</td>\n",
              "    </tr>\n",
              "    <tr>\n",
              "      <th>various</th>\n",
              "      <td>0.0</td>\n",
              "      <td>0.0</td>\n",
              "      <td>0.0</td>\n",
              "      <td>1.0</td>\n",
              "      <td>0.0</td>\n",
              "      <td>0.0</td>\n",
              "      <td>0.0</td>\n",
              "      <td>0.0</td>\n",
              "      <td>0.0</td>\n",
              "      <td>0.0</td>\n",
              "    </tr>\n",
              "    <tr>\n",
              "      <th>what</th>\n",
              "      <td>0.0</td>\n",
              "      <td>0.0</td>\n",
              "      <td>0.0</td>\n",
              "      <td>0.0</td>\n",
              "      <td>2.0</td>\n",
              "      <td>0.0</td>\n",
              "      <td>0.0</td>\n",
              "      <td>0.0</td>\n",
              "      <td>0.0</td>\n",
              "      <td>0.0</td>\n",
              "    </tr>\n",
              "    <tr>\n",
              "      <th>mainland</th>\n",
              "      <td>0.0</td>\n",
              "      <td>0.0</td>\n",
              "      <td>0.0</td>\n",
              "      <td>0.0</td>\n",
              "      <td>0.0</td>\n",
              "      <td>0.0</td>\n",
              "      <td>0.0</td>\n",
              "      <td>0.0</td>\n",
              "      <td>1.0</td>\n",
              "      <td>0.0</td>\n",
              "    </tr>\n",
              "  </tbody>\n",
              "</table>\n",
              "<p>687 rows × 10 columns</p>\n",
              "</div>\n",
              "      <button class=\"colab-df-convert\" onclick=\"convertToInteractive('df-ac26ee53-d413-4af7-ac89-a50a04ecaddb')\"\n",
              "              title=\"Convert this dataframe to an interactive table.\"\n",
              "              style=\"display:none;\">\n",
              "        \n",
              "  <svg xmlns=\"http://www.w3.org/2000/svg\" height=\"24px\"viewBox=\"0 0 24 24\"\n",
              "       width=\"24px\">\n",
              "    <path d=\"M0 0h24v24H0V0z\" fill=\"none\"/>\n",
              "    <path d=\"M18.56 5.44l.94 2.06.94-2.06 2.06-.94-2.06-.94-.94-2.06-.94 2.06-2.06.94zm-11 1L8.5 8.5l.94-2.06 2.06-.94-2.06-.94L8.5 2.5l-.94 2.06-2.06.94zm10 10l.94 2.06.94-2.06 2.06-.94-2.06-.94-.94-2.06-.94 2.06-2.06.94z\"/><path d=\"M17.41 7.96l-1.37-1.37c-.4-.4-.92-.59-1.43-.59-.52 0-1.04.2-1.43.59L10.3 9.45l-7.72 7.72c-.78.78-.78 2.05 0 2.83L4 21.41c.39.39.9.59 1.41.59.51 0 1.02-.2 1.41-.59l7.78-7.78 2.81-2.81c.8-.78.8-2.07 0-2.86zM5.41 20L4 18.59l7.72-7.72 1.47 1.35L5.41 20z\"/>\n",
              "  </svg>\n",
              "      </button>\n",
              "      \n",
              "  <style>\n",
              "    .colab-df-container {\n",
              "      display:flex;\n",
              "      flex-wrap:wrap;\n",
              "      gap: 12px;\n",
              "    }\n",
              "\n",
              "    .colab-df-convert {\n",
              "      background-color: #E8F0FE;\n",
              "      border: none;\n",
              "      border-radius: 50%;\n",
              "      cursor: pointer;\n",
              "      display: none;\n",
              "      fill: #1967D2;\n",
              "      height: 32px;\n",
              "      padding: 0 0 0 0;\n",
              "      width: 32px;\n",
              "    }\n",
              "\n",
              "    .colab-df-convert:hover {\n",
              "      background-color: #E2EBFA;\n",
              "      box-shadow: 0px 1px 2px rgba(60, 64, 67, 0.3), 0px 1px 3px 1px rgba(60, 64, 67, 0.15);\n",
              "      fill: #174EA6;\n",
              "    }\n",
              "\n",
              "    [theme=dark] .colab-df-convert {\n",
              "      background-color: #3B4455;\n",
              "      fill: #D2E3FC;\n",
              "    }\n",
              "\n",
              "    [theme=dark] .colab-df-convert:hover {\n",
              "      background-color: #434B5C;\n",
              "      box-shadow: 0px 1px 3px 1px rgba(0, 0, 0, 0.15);\n",
              "      filter: drop-shadow(0px 1px 2px rgba(0, 0, 0, 0.3));\n",
              "      fill: #FFFFFF;\n",
              "    }\n",
              "  </style>\n",
              "\n",
              "      <script>\n",
              "        const buttonEl =\n",
              "          document.querySelector('#df-ac26ee53-d413-4af7-ac89-a50a04ecaddb button.colab-df-convert');\n",
              "        buttonEl.style.display =\n",
              "          google.colab.kernel.accessAllowed ? 'block' : 'none';\n",
              "\n",
              "        async function convertToInteractive(key) {\n",
              "          const element = document.querySelector('#df-ac26ee53-d413-4af7-ac89-a50a04ecaddb');\n",
              "          const dataTable =\n",
              "            await google.colab.kernel.invokeFunction('convertToInteractive',\n",
              "                                                     [key], {});\n",
              "          if (!dataTable) return;\n",
              "\n",
              "          const docLinkHtml = 'Like what you see? Visit the ' +\n",
              "            '<a target=\"_blank\" href=https://colab.research.google.com/notebooks/data_table.ipynb>data table notebook</a>'\n",
              "            + ' to learn more about interactive tables.';\n",
              "          element.innerHTML = '';\n",
              "          dataTable['output_type'] = 'display_data';\n",
              "          await google.colab.output.renderOutput(dataTable, element);\n",
              "          const docLink = document.createElement('div');\n",
              "          docLink.innerHTML = docLinkHtml;\n",
              "          element.appendChild(docLink);\n",
              "        }\n",
              "      </script>\n",
              "    </div>\n",
              "  </div>\n",
              "  "
            ]
          },
          "metadata": {},
          "execution_count": 50
        }
      ]
    },
    {
      "cell_type": "code",
      "source": [
        "# calculate idf\n",
        "doc_freq = np.count_nonzero(tfidf_mat, axis=1)\n",
        "doc_freq"
      ],
      "metadata": {
        "colab": {
          "base_uri": "https://localhost:8080/"
        },
        "id": "1nJLwNXQ633q",
        "outputId": "a4d81c59-0056-4f81-8f17-a53bb268a14e"
      },
      "execution_count": 51,
      "outputs": [
        {
          "output_type": "execute_result",
          "data": {
            "text/plain": [
              "array([ 1,  2,  7,  1,  1,  1,  1,  1,  1,  1,  1,  1,  1,  1,  1,  1,  1,\n",
              "        1,  1,  1,  1,  1,  2,  1,  1,  1,  1,  2,  1,  1,  1,  1,  1,  1,\n",
              "        1,  1,  1,  2,  1,  9,  1,  1,  1,  1,  2,  1,  1,  1,  1,  1,  1,\n",
              "        2,  1,  1,  1,  1,  1,  1,  2,  1,  1,  1,  1,  1,  1,  1,  1,  1,\n",
              "        1,  1,  1,  1,  1,  1,  1,  1,  2,  1,  1,  1,  1,  4,  1,  1,  1,\n",
              "        2,  2,  1,  1,  1,  1, 10,  1,  1,  1,  1,  1,  1,  1,  1,  1,  1,\n",
              "        1,  1,  2,  1,  1,  1,  2,  1,  1,  1,  1,  1,  1,  1,  2,  4,  1,\n",
              "        1,  1,  1,  1,  1,  1,  1,  1,  1,  1,  1,  1,  5,  2,  1,  1,  1,\n",
              "        1,  4,  1,  1,  1,  4,  1,  1,  3,  2,  1,  2,  1,  1,  1,  1,  1,\n",
              "        1,  1,  1,  1,  1,  1,  1,  2,  1,  1,  3,  4,  3,  1,  1,  1,  2,\n",
              "        1,  1,  1,  1,  6,  1,  3,  1,  1,  1,  1,  2,  2,  1,  1,  1,  7,\n",
              "        1,  1,  1,  1,  2,  1,  8,  1,  1,  9,  1,  1,  1,  1,  1,  1,  1,\n",
              "        1,  1,  1,  1,  2,  1,  1,  1,  1,  1,  1,  1,  1,  1,  1,  1,  3,\n",
              "        1,  1,  1,  1,  1,  8,  1,  1,  1,  1,  1,  1,  1,  1,  1,  1,  1,\n",
              "        1,  1,  1,  1,  1,  1,  1,  1,  1,  2,  1,  1,  1,  2,  1,  1,  2,\n",
              "        1,  1,  1,  1,  2,  1,  5,  2,  1,  1,  1,  1,  1,  1,  1,  1,  1,\n",
              "        5,  1,  1,  1,  1,  1,  1,  1,  2,  1,  1,  1,  1,  1,  1,  1,  1,\n",
              "        1,  2,  5,  1,  1,  2,  1,  1,  1,  1,  1,  1,  1,  1,  2,  1,  1,\n",
              "        1,  1,  1,  1,  1,  1,  1,  1,  1,  1,  1,  1,  1,  1,  2,  1,  1,\n",
              "        1,  1,  1,  1,  1,  1,  1,  2,  1,  1,  1,  1,  1,  1,  2,  1,  1,\n",
              "        1,  1,  1,  1,  1,  1,  8,  1,  1,  1,  1,  1,  1,  1,  3,  1,  1,\n",
              "        1,  2,  2,  1,  2,  1,  1,  1,  1,  1,  1,  1,  1,  1,  1,  1,  1,\n",
              "        1,  1,  1,  1,  1,  1,  3,  1,  2,  1,  2,  1,  1,  2,  1,  1,  1,\n",
              "        1,  1,  1,  9,  1,  2,  2,  5,  3,  1,  1,  1,  2,  1,  1,  1,  1,\n",
              "        1,  1,  1,  1,  1,  2,  2,  1,  1,  1,  1,  1,  1,  1,  1,  1,  1,\n",
              "        1,  1,  1,  1,  1,  3,  4,  1,  1,  1,  1,  1,  1,  1,  1,  1,  1,\n",
              "        1,  1,  1,  1,  1,  1,  1,  1,  1,  4,  1,  1,  1,  1,  1,  2,  1,\n",
              "        1,  1,  1,  1,  1,  1,  1,  2,  1,  1,  1,  1,  1,  4,  1,  1,  1,\n",
              "        1,  1,  1,  1,  1,  1,  1,  1,  1,  1,  1,  1,  1,  1,  1,  1,  1,\n",
              "        1,  1,  1,  1,  1,  1,  1,  1, 10,  1,  1,  1,  1,  1,  1,  1,  1,\n",
              "        2,  1,  1,  1,  2,  1,  1,  1,  1,  1,  1,  1,  1,  1,  2,  1,  1,\n",
              "        1,  1,  1,  1,  1,  2,  1,  1,  1,  2,  1,  1,  1,  1,  1,  1,  2,\n",
              "        1,  1,  1,  1,  1,  2,  1,  1,  1,  1,  1,  1,  1,  1,  1,  1,  1,\n",
              "        2,  1,  2,  1,  1,  1,  1,  1,  9,  1,  1,  1,  1,  1,  1,  1,  1,\n",
              "        1,  1,  1,  1,  1,  1,  6,  1,  1,  1,  4,  1,  1,  1,  1,  1,  1,\n",
              "        1,  1,  1,  1,  2,  1,  1,  1,  1,  1,  1,  1,  4,  1,  1,  1,  1,\n",
              "        1,  1,  1,  1,  1,  1,  1,  1,  1,  1,  1,  1,  1,  1,  1,  1,  1,\n",
              "        1,  1,  2,  1,  1,  1,  2,  1,  1,  1,  1,  1,  1,  1,  1,  1,  2,\n",
              "        1,  1,  1,  1,  1,  1,  1,  1,  1,  1,  1,  1,  2,  1,  1,  1,  1,\n",
              "        1,  1,  1,  1,  1,  1,  1,  1,  1,  1,  1,  1,  2,  2,  1,  2,  1,\n",
              "        1,  1,  2,  1,  1,  1,  1])"
            ]
          },
          "metadata": {},
          "execution_count": 51
        }
      ]
    },
    {
      "cell_type": "code",
      "source": [
        "idf = np.log(10/(1+doc_freq))\n",
        "idf"
      ],
      "metadata": {
        "colab": {
          "base_uri": "https://localhost:8080/"
        },
        "id": "5narysNelx6l",
        "outputId": "8c437b83-ade7-46ea-edfa-de1624bf8800"
      },
      "execution_count": 52,
      "outputs": [
        {
          "output_type": "execute_result",
          "data": {
            "text/plain": [
              "array([ 1.60943791,  1.2039728 ,  0.22314355,  1.60943791,  1.60943791,\n",
              "        1.60943791,  1.60943791,  1.60943791,  1.60943791,  1.60943791,\n",
              "        1.60943791,  1.60943791,  1.60943791,  1.60943791,  1.60943791,\n",
              "        1.60943791,  1.60943791,  1.60943791,  1.60943791,  1.60943791,\n",
              "        1.60943791,  1.60943791,  1.2039728 ,  1.60943791,  1.60943791,\n",
              "        1.60943791,  1.60943791,  1.2039728 ,  1.60943791,  1.60943791,\n",
              "        1.60943791,  1.60943791,  1.60943791,  1.60943791,  1.60943791,\n",
              "        1.60943791,  1.60943791,  1.2039728 ,  1.60943791,  0.        ,\n",
              "        1.60943791,  1.60943791,  1.60943791,  1.60943791,  1.2039728 ,\n",
              "        1.60943791,  1.60943791,  1.60943791,  1.60943791,  1.60943791,\n",
              "        1.60943791,  1.2039728 ,  1.60943791,  1.60943791,  1.60943791,\n",
              "        1.60943791,  1.60943791,  1.60943791,  1.2039728 ,  1.60943791,\n",
              "        1.60943791,  1.60943791,  1.60943791,  1.60943791,  1.60943791,\n",
              "        1.60943791,  1.60943791,  1.60943791,  1.60943791,  1.60943791,\n",
              "        1.60943791,  1.60943791,  1.60943791,  1.60943791,  1.60943791,\n",
              "        1.60943791,  1.2039728 ,  1.60943791,  1.60943791,  1.60943791,\n",
              "        1.60943791,  0.69314718,  1.60943791,  1.60943791,  1.60943791,\n",
              "        1.2039728 ,  1.2039728 ,  1.60943791,  1.60943791,  1.60943791,\n",
              "        1.60943791, -0.09531018,  1.60943791,  1.60943791,  1.60943791,\n",
              "        1.60943791,  1.60943791,  1.60943791,  1.60943791,  1.60943791,\n",
              "        1.60943791,  1.60943791,  1.60943791,  1.60943791,  1.2039728 ,\n",
              "        1.60943791,  1.60943791,  1.60943791,  1.2039728 ,  1.60943791,\n",
              "        1.60943791,  1.60943791,  1.60943791,  1.60943791,  1.60943791,\n",
              "        1.60943791,  1.2039728 ,  0.69314718,  1.60943791,  1.60943791,\n",
              "        1.60943791,  1.60943791,  1.60943791,  1.60943791,  1.60943791,\n",
              "        1.60943791,  1.60943791,  1.60943791,  1.60943791,  1.60943791,\n",
              "        1.60943791,  0.51082562,  1.2039728 ,  1.60943791,  1.60943791,\n",
              "        1.60943791,  1.60943791,  0.69314718,  1.60943791,  1.60943791,\n",
              "        1.60943791,  0.69314718,  1.60943791,  1.60943791,  0.91629073,\n",
              "        1.2039728 ,  1.60943791,  1.2039728 ,  1.60943791,  1.60943791,\n",
              "        1.60943791,  1.60943791,  1.60943791,  1.60943791,  1.60943791,\n",
              "        1.60943791,  1.60943791,  1.60943791,  1.60943791,  1.60943791,\n",
              "        1.2039728 ,  1.60943791,  1.60943791,  0.91629073,  0.69314718,\n",
              "        0.91629073,  1.60943791,  1.60943791,  1.60943791,  1.2039728 ,\n",
              "        1.60943791,  1.60943791,  1.60943791,  1.60943791,  0.35667494,\n",
              "        1.60943791,  0.91629073,  1.60943791,  1.60943791,  1.60943791,\n",
              "        1.60943791,  1.2039728 ,  1.2039728 ,  1.60943791,  1.60943791,\n",
              "        1.60943791,  0.22314355,  1.60943791,  1.60943791,  1.60943791,\n",
              "        1.60943791,  1.2039728 ,  1.60943791,  0.10536052,  1.60943791,\n",
              "        1.60943791,  0.        ,  1.60943791,  1.60943791,  1.60943791,\n",
              "        1.60943791,  1.60943791,  1.60943791,  1.60943791,  1.60943791,\n",
              "        1.60943791,  1.60943791,  1.60943791,  1.2039728 ,  1.60943791,\n",
              "        1.60943791,  1.60943791,  1.60943791,  1.60943791,  1.60943791,\n",
              "        1.60943791,  1.60943791,  1.60943791,  1.60943791,  1.60943791,\n",
              "        0.91629073,  1.60943791,  1.60943791,  1.60943791,  1.60943791,\n",
              "        1.60943791,  0.10536052,  1.60943791,  1.60943791,  1.60943791,\n",
              "        1.60943791,  1.60943791,  1.60943791,  1.60943791,  1.60943791,\n",
              "        1.60943791,  1.60943791,  1.60943791,  1.60943791,  1.60943791,\n",
              "        1.60943791,  1.60943791,  1.60943791,  1.60943791,  1.60943791,\n",
              "        1.60943791,  1.60943791,  1.2039728 ,  1.60943791,  1.60943791,\n",
              "        1.60943791,  1.2039728 ,  1.60943791,  1.60943791,  1.2039728 ,\n",
              "        1.60943791,  1.60943791,  1.60943791,  1.60943791,  1.2039728 ,\n",
              "        1.60943791,  0.51082562,  1.2039728 ,  1.60943791,  1.60943791,\n",
              "        1.60943791,  1.60943791,  1.60943791,  1.60943791,  1.60943791,\n",
              "        1.60943791,  1.60943791,  0.51082562,  1.60943791,  1.60943791,\n",
              "        1.60943791,  1.60943791,  1.60943791,  1.60943791,  1.60943791,\n",
              "        1.2039728 ,  1.60943791,  1.60943791,  1.60943791,  1.60943791,\n",
              "        1.60943791,  1.60943791,  1.60943791,  1.60943791,  1.60943791,\n",
              "        1.2039728 ,  0.51082562,  1.60943791,  1.60943791,  1.2039728 ,\n",
              "        1.60943791,  1.60943791,  1.60943791,  1.60943791,  1.60943791,\n",
              "        1.60943791,  1.60943791,  1.60943791,  1.2039728 ,  1.60943791,\n",
              "        1.60943791,  1.60943791,  1.60943791,  1.60943791,  1.60943791,\n",
              "        1.60943791,  1.60943791,  1.60943791,  1.60943791,  1.60943791,\n",
              "        1.60943791,  1.60943791,  1.60943791,  1.60943791,  1.60943791,\n",
              "        1.2039728 ,  1.60943791,  1.60943791,  1.60943791,  1.60943791,\n",
              "        1.60943791,  1.60943791,  1.60943791,  1.60943791,  1.60943791,\n",
              "        1.2039728 ,  1.60943791,  1.60943791,  1.60943791,  1.60943791,\n",
              "        1.60943791,  1.60943791,  1.2039728 ,  1.60943791,  1.60943791,\n",
              "        1.60943791,  1.60943791,  1.60943791,  1.60943791,  1.60943791,\n",
              "        1.60943791,  0.10536052,  1.60943791,  1.60943791,  1.60943791,\n",
              "        1.60943791,  1.60943791,  1.60943791,  1.60943791,  0.91629073,\n",
              "        1.60943791,  1.60943791,  1.60943791,  1.2039728 ,  1.2039728 ,\n",
              "        1.60943791,  1.2039728 ,  1.60943791,  1.60943791,  1.60943791,\n",
              "        1.60943791,  1.60943791,  1.60943791,  1.60943791,  1.60943791,\n",
              "        1.60943791,  1.60943791,  1.60943791,  1.60943791,  1.60943791,\n",
              "        1.60943791,  1.60943791,  1.60943791,  1.60943791,  1.60943791,\n",
              "        0.91629073,  1.60943791,  1.2039728 ,  1.60943791,  1.2039728 ,\n",
              "        1.60943791,  1.60943791,  1.2039728 ,  1.60943791,  1.60943791,\n",
              "        1.60943791,  1.60943791,  1.60943791,  1.60943791,  0.        ,\n",
              "        1.60943791,  1.2039728 ,  1.2039728 ,  0.51082562,  0.91629073,\n",
              "        1.60943791,  1.60943791,  1.60943791,  1.2039728 ,  1.60943791,\n",
              "        1.60943791,  1.60943791,  1.60943791,  1.60943791,  1.60943791,\n",
              "        1.60943791,  1.60943791,  1.60943791,  1.2039728 ,  1.2039728 ,\n",
              "        1.60943791,  1.60943791,  1.60943791,  1.60943791,  1.60943791,\n",
              "        1.60943791,  1.60943791,  1.60943791,  1.60943791,  1.60943791,\n",
              "        1.60943791,  1.60943791,  1.60943791,  1.60943791,  1.60943791,\n",
              "        0.91629073,  0.69314718,  1.60943791,  1.60943791,  1.60943791,\n",
              "        1.60943791,  1.60943791,  1.60943791,  1.60943791,  1.60943791,\n",
              "        1.60943791,  1.60943791,  1.60943791,  1.60943791,  1.60943791,\n",
              "        1.60943791,  1.60943791,  1.60943791,  1.60943791,  1.60943791,\n",
              "        1.60943791,  0.69314718,  1.60943791,  1.60943791,  1.60943791,\n",
              "        1.60943791,  1.60943791,  1.2039728 ,  1.60943791,  1.60943791,\n",
              "        1.60943791,  1.60943791,  1.60943791,  1.60943791,  1.60943791,\n",
              "        1.60943791,  1.2039728 ,  1.60943791,  1.60943791,  1.60943791,\n",
              "        1.60943791,  1.60943791,  0.69314718,  1.60943791,  1.60943791,\n",
              "        1.60943791,  1.60943791,  1.60943791,  1.60943791,  1.60943791,\n",
              "        1.60943791,  1.60943791,  1.60943791,  1.60943791,  1.60943791,\n",
              "        1.60943791,  1.60943791,  1.60943791,  1.60943791,  1.60943791,\n",
              "        1.60943791,  1.60943791,  1.60943791,  1.60943791,  1.60943791,\n",
              "        1.60943791,  1.60943791,  1.60943791,  1.60943791,  1.60943791,\n",
              "        1.60943791, -0.09531018,  1.60943791,  1.60943791,  1.60943791,\n",
              "        1.60943791,  1.60943791,  1.60943791,  1.60943791,  1.60943791,\n",
              "        1.2039728 ,  1.60943791,  1.60943791,  1.60943791,  1.2039728 ,\n",
              "        1.60943791,  1.60943791,  1.60943791,  1.60943791,  1.60943791,\n",
              "        1.60943791,  1.60943791,  1.60943791,  1.60943791,  1.2039728 ,\n",
              "        1.60943791,  1.60943791,  1.60943791,  1.60943791,  1.60943791,\n",
              "        1.60943791,  1.60943791,  1.2039728 ,  1.60943791,  1.60943791,\n",
              "        1.60943791,  1.2039728 ,  1.60943791,  1.60943791,  1.60943791,\n",
              "        1.60943791,  1.60943791,  1.60943791,  1.2039728 ,  1.60943791,\n",
              "        1.60943791,  1.60943791,  1.60943791,  1.60943791,  1.2039728 ,\n",
              "        1.60943791,  1.60943791,  1.60943791,  1.60943791,  1.60943791,\n",
              "        1.60943791,  1.60943791,  1.60943791,  1.60943791,  1.60943791,\n",
              "        1.60943791,  1.2039728 ,  1.60943791,  1.2039728 ,  1.60943791,\n",
              "        1.60943791,  1.60943791,  1.60943791,  1.60943791,  0.        ,\n",
              "        1.60943791,  1.60943791,  1.60943791,  1.60943791,  1.60943791,\n",
              "        1.60943791,  1.60943791,  1.60943791,  1.60943791,  1.60943791,\n",
              "        1.60943791,  1.60943791,  1.60943791,  1.60943791,  0.35667494,\n",
              "        1.60943791,  1.60943791,  1.60943791,  0.69314718,  1.60943791,\n",
              "        1.60943791,  1.60943791,  1.60943791,  1.60943791,  1.60943791,\n",
              "        1.60943791,  1.60943791,  1.60943791,  1.60943791,  1.2039728 ,\n",
              "        1.60943791,  1.60943791,  1.60943791,  1.60943791,  1.60943791,\n",
              "        1.60943791,  1.60943791,  0.69314718,  1.60943791,  1.60943791,\n",
              "        1.60943791,  1.60943791,  1.60943791,  1.60943791,  1.60943791,\n",
              "        1.60943791,  1.60943791,  1.60943791,  1.60943791,  1.60943791,\n",
              "        1.60943791,  1.60943791,  1.60943791,  1.60943791,  1.60943791,\n",
              "        1.60943791,  1.60943791,  1.60943791,  1.60943791,  1.60943791,\n",
              "        1.60943791,  1.2039728 ,  1.60943791,  1.60943791,  1.60943791,\n",
              "        1.2039728 ,  1.60943791,  1.60943791,  1.60943791,  1.60943791,\n",
              "        1.60943791,  1.60943791,  1.60943791,  1.60943791,  1.60943791,\n",
              "        1.2039728 ,  1.60943791,  1.60943791,  1.60943791,  1.60943791,\n",
              "        1.60943791,  1.60943791,  1.60943791,  1.60943791,  1.60943791,\n",
              "        1.60943791,  1.60943791,  1.60943791,  1.2039728 ,  1.60943791,\n",
              "        1.60943791,  1.60943791,  1.60943791,  1.60943791,  1.60943791,\n",
              "        1.60943791,  1.60943791,  1.60943791,  1.60943791,  1.60943791,\n",
              "        1.60943791,  1.60943791,  1.60943791,  1.60943791,  1.60943791,\n",
              "        1.2039728 ,  1.2039728 ,  1.60943791,  1.2039728 ,  1.60943791,\n",
              "        1.60943791,  1.60943791,  1.2039728 ,  1.60943791,  1.60943791,\n",
              "        1.60943791,  1.60943791])"
            ]
          },
          "metadata": {},
          "execution_count": 52
        }
      ]
    },
    {
      "cell_type": "code",
      "source": [
        "idf = np.reshape(idf, (len(idf), 1))\n",
        "idf.shape"
      ],
      "metadata": {
        "colab": {
          "base_uri": "https://localhost:8080/"
        },
        "id": "_hmrJuwMl7HE",
        "outputId": "4d2284cb-8b15-46da-a66c-41d0eba440e4"
      },
      "execution_count": 53,
      "outputs": [
        {
          "output_type": "execute_result",
          "data": {
            "text/plain": [
              "(687, 1)"
            ]
          },
          "metadata": {},
          "execution_count": 53
        }
      ]
    },
    {
      "cell_type": "code",
      "source": [
        "tfidf_mat = tfidf_mat * idf\n",
        "tfidf_mat"
      ],
      "metadata": {
        "colab": {
          "base_uri": "https://localhost:8080/",
          "height": 424
        },
        "id": "4eOfpR3LmAu7",
        "outputId": "806494dc-dc59-450e-a070-6274dbb0e575"
      },
      "execution_count": 54,
      "outputs": [
        {
          "output_type": "execute_result",
          "data": {
            "text/plain": [
              "              0    1         2         3         4         5         6  \\\n",
              "comparable  0.0  0.0  0.000000  1.609438  0.000000  0.000000  0.000000   \n",
              "2005        0.0  0.0  0.000000  0.000000  0.000000  0.000000  1.203973   \n",
              "most        0.0  0.0  0.223144  0.223144  0.000000  0.446287  0.223144   \n",
              "grand       0.0  0.0  0.000000  0.000000  0.000000  0.000000  0.000000   \n",
              "work        0.0  0.0  0.000000  1.609438  0.000000  0.000000  0.000000   \n",
              "...         ...  ...       ...       ...       ...       ...       ...   \n",
              "1           0.0  0.0  0.000000  0.000000  0.000000  0.000000  1.203973   \n",
              "centers     0.0  0.0  0.000000  0.000000  0.000000  0.000000  0.000000   \n",
              "various     0.0  0.0  0.000000  1.609438  0.000000  0.000000  0.000000   \n",
              "what        0.0  0.0  0.000000  0.000000  3.218876  0.000000  0.000000   \n",
              "mainland    0.0  0.0  0.000000  0.000000  0.000000  0.000000  0.000000   \n",
              "\n",
              "                   7         8         9  \n",
              "comparable  0.000000  0.000000  0.000000  \n",
              "2005        0.000000  0.000000  1.203973  \n",
              "most        0.223144  0.223144  0.223144  \n",
              "grand       0.000000  0.000000  8.047190  \n",
              "work        0.000000  0.000000  0.000000  \n",
              "...              ...       ...       ...  \n",
              "1           0.000000  0.000000  1.203973  \n",
              "centers     0.000000  1.609438  0.000000  \n",
              "various     0.000000  0.000000  0.000000  \n",
              "what        0.000000  0.000000  0.000000  \n",
              "mainland    0.000000  1.609438  0.000000  \n",
              "\n",
              "[687 rows x 10 columns]"
            ],
            "text/html": [
              "\n",
              "  <div id=\"df-5e2bcbaa-f5de-4002-bcb8-893dbca0c941\">\n",
              "    <div class=\"colab-df-container\">\n",
              "      <div>\n",
              "<style scoped>\n",
              "    .dataframe tbody tr th:only-of-type {\n",
              "        vertical-align: middle;\n",
              "    }\n",
              "\n",
              "    .dataframe tbody tr th {\n",
              "        vertical-align: top;\n",
              "    }\n",
              "\n",
              "    .dataframe thead th {\n",
              "        text-align: right;\n",
              "    }\n",
              "</style>\n",
              "<table border=\"1\" class=\"dataframe\">\n",
              "  <thead>\n",
              "    <tr style=\"text-align: right;\">\n",
              "      <th></th>\n",
              "      <th>0</th>\n",
              "      <th>1</th>\n",
              "      <th>2</th>\n",
              "      <th>3</th>\n",
              "      <th>4</th>\n",
              "      <th>5</th>\n",
              "      <th>6</th>\n",
              "      <th>7</th>\n",
              "      <th>8</th>\n",
              "      <th>9</th>\n",
              "    </tr>\n",
              "  </thead>\n",
              "  <tbody>\n",
              "    <tr>\n",
              "      <th>comparable</th>\n",
              "      <td>0.0</td>\n",
              "      <td>0.0</td>\n",
              "      <td>0.000000</td>\n",
              "      <td>1.609438</td>\n",
              "      <td>0.000000</td>\n",
              "      <td>0.000000</td>\n",
              "      <td>0.000000</td>\n",
              "      <td>0.000000</td>\n",
              "      <td>0.000000</td>\n",
              "      <td>0.000000</td>\n",
              "    </tr>\n",
              "    <tr>\n",
              "      <th>2005</th>\n",
              "      <td>0.0</td>\n",
              "      <td>0.0</td>\n",
              "      <td>0.000000</td>\n",
              "      <td>0.000000</td>\n",
              "      <td>0.000000</td>\n",
              "      <td>0.000000</td>\n",
              "      <td>1.203973</td>\n",
              "      <td>0.000000</td>\n",
              "      <td>0.000000</td>\n",
              "      <td>1.203973</td>\n",
              "    </tr>\n",
              "    <tr>\n",
              "      <th>most</th>\n",
              "      <td>0.0</td>\n",
              "      <td>0.0</td>\n",
              "      <td>0.223144</td>\n",
              "      <td>0.223144</td>\n",
              "      <td>0.000000</td>\n",
              "      <td>0.446287</td>\n",
              "      <td>0.223144</td>\n",
              "      <td>0.223144</td>\n",
              "      <td>0.223144</td>\n",
              "      <td>0.223144</td>\n",
              "    </tr>\n",
              "    <tr>\n",
              "      <th>grand</th>\n",
              "      <td>0.0</td>\n",
              "      <td>0.0</td>\n",
              "      <td>0.000000</td>\n",
              "      <td>0.000000</td>\n",
              "      <td>0.000000</td>\n",
              "      <td>0.000000</td>\n",
              "      <td>0.000000</td>\n",
              "      <td>0.000000</td>\n",
              "      <td>0.000000</td>\n",
              "      <td>8.047190</td>\n",
              "    </tr>\n",
              "    <tr>\n",
              "      <th>work</th>\n",
              "      <td>0.0</td>\n",
              "      <td>0.0</td>\n",
              "      <td>0.000000</td>\n",
              "      <td>1.609438</td>\n",
              "      <td>0.000000</td>\n",
              "      <td>0.000000</td>\n",
              "      <td>0.000000</td>\n",
              "      <td>0.000000</td>\n",
              "      <td>0.000000</td>\n",
              "      <td>0.000000</td>\n",
              "    </tr>\n",
              "    <tr>\n",
              "      <th>...</th>\n",
              "      <td>...</td>\n",
              "      <td>...</td>\n",
              "      <td>...</td>\n",
              "      <td>...</td>\n",
              "      <td>...</td>\n",
              "      <td>...</td>\n",
              "      <td>...</td>\n",
              "      <td>...</td>\n",
              "      <td>...</td>\n",
              "      <td>...</td>\n",
              "    </tr>\n",
              "    <tr>\n",
              "      <th>1</th>\n",
              "      <td>0.0</td>\n",
              "      <td>0.0</td>\n",
              "      <td>0.000000</td>\n",
              "      <td>0.000000</td>\n",
              "      <td>0.000000</td>\n",
              "      <td>0.000000</td>\n",
              "      <td>1.203973</td>\n",
              "      <td>0.000000</td>\n",
              "      <td>0.000000</td>\n",
              "      <td>1.203973</td>\n",
              "    </tr>\n",
              "    <tr>\n",
              "      <th>centers</th>\n",
              "      <td>0.0</td>\n",
              "      <td>0.0</td>\n",
              "      <td>0.000000</td>\n",
              "      <td>0.000000</td>\n",
              "      <td>0.000000</td>\n",
              "      <td>0.000000</td>\n",
              "      <td>0.000000</td>\n",
              "      <td>0.000000</td>\n",
              "      <td>1.609438</td>\n",
              "      <td>0.000000</td>\n",
              "    </tr>\n",
              "    <tr>\n",
              "      <th>various</th>\n",
              "      <td>0.0</td>\n",
              "      <td>0.0</td>\n",
              "      <td>0.000000</td>\n",
              "      <td>1.609438</td>\n",
              "      <td>0.000000</td>\n",
              "      <td>0.000000</td>\n",
              "      <td>0.000000</td>\n",
              "      <td>0.000000</td>\n",
              "      <td>0.000000</td>\n",
              "      <td>0.000000</td>\n",
              "    </tr>\n",
              "    <tr>\n",
              "      <th>what</th>\n",
              "      <td>0.0</td>\n",
              "      <td>0.0</td>\n",
              "      <td>0.000000</td>\n",
              "      <td>0.000000</td>\n",
              "      <td>3.218876</td>\n",
              "      <td>0.000000</td>\n",
              "      <td>0.000000</td>\n",
              "      <td>0.000000</td>\n",
              "      <td>0.000000</td>\n",
              "      <td>0.000000</td>\n",
              "    </tr>\n",
              "    <tr>\n",
              "      <th>mainland</th>\n",
              "      <td>0.0</td>\n",
              "      <td>0.0</td>\n",
              "      <td>0.000000</td>\n",
              "      <td>0.000000</td>\n",
              "      <td>0.000000</td>\n",
              "      <td>0.000000</td>\n",
              "      <td>0.000000</td>\n",
              "      <td>0.000000</td>\n",
              "      <td>1.609438</td>\n",
              "      <td>0.000000</td>\n",
              "    </tr>\n",
              "  </tbody>\n",
              "</table>\n",
              "<p>687 rows × 10 columns</p>\n",
              "</div>\n",
              "      <button class=\"colab-df-convert\" onclick=\"convertToInteractive('df-5e2bcbaa-f5de-4002-bcb8-893dbca0c941')\"\n",
              "              title=\"Convert this dataframe to an interactive table.\"\n",
              "              style=\"display:none;\">\n",
              "        \n",
              "  <svg xmlns=\"http://www.w3.org/2000/svg\" height=\"24px\"viewBox=\"0 0 24 24\"\n",
              "       width=\"24px\">\n",
              "    <path d=\"M0 0h24v24H0V0z\" fill=\"none\"/>\n",
              "    <path d=\"M18.56 5.44l.94 2.06.94-2.06 2.06-.94-2.06-.94-.94-2.06-.94 2.06-2.06.94zm-11 1L8.5 8.5l.94-2.06 2.06-.94-2.06-.94L8.5 2.5l-.94 2.06-2.06.94zm10 10l.94 2.06.94-2.06 2.06-.94-2.06-.94-.94-2.06-.94 2.06-2.06.94z\"/><path d=\"M17.41 7.96l-1.37-1.37c-.4-.4-.92-.59-1.43-.59-.52 0-1.04.2-1.43.59L10.3 9.45l-7.72 7.72c-.78.78-.78 2.05 0 2.83L4 21.41c.39.39.9.59 1.41.59.51 0 1.02-.2 1.41-.59l7.78-7.78 2.81-2.81c.8-.78.8-2.07 0-2.86zM5.41 20L4 18.59l7.72-7.72 1.47 1.35L5.41 20z\"/>\n",
              "  </svg>\n",
              "      </button>\n",
              "      \n",
              "  <style>\n",
              "    .colab-df-container {\n",
              "      display:flex;\n",
              "      flex-wrap:wrap;\n",
              "      gap: 12px;\n",
              "    }\n",
              "\n",
              "    .colab-df-convert {\n",
              "      background-color: #E8F0FE;\n",
              "      border: none;\n",
              "      border-radius: 50%;\n",
              "      cursor: pointer;\n",
              "      display: none;\n",
              "      fill: #1967D2;\n",
              "      height: 32px;\n",
              "      padding: 0 0 0 0;\n",
              "      width: 32px;\n",
              "    }\n",
              "\n",
              "    .colab-df-convert:hover {\n",
              "      background-color: #E2EBFA;\n",
              "      box-shadow: 0px 1px 2px rgba(60, 64, 67, 0.3), 0px 1px 3px 1px rgba(60, 64, 67, 0.15);\n",
              "      fill: #174EA6;\n",
              "    }\n",
              "\n",
              "    [theme=dark] .colab-df-convert {\n",
              "      background-color: #3B4455;\n",
              "      fill: #D2E3FC;\n",
              "    }\n",
              "\n",
              "    [theme=dark] .colab-df-convert:hover {\n",
              "      background-color: #434B5C;\n",
              "      box-shadow: 0px 1px 3px 1px rgba(0, 0, 0, 0.15);\n",
              "      filter: drop-shadow(0px 1px 2px rgba(0, 0, 0, 0.3));\n",
              "      fill: #FFFFFF;\n",
              "    }\n",
              "  </style>\n",
              "\n",
              "      <script>\n",
              "        const buttonEl =\n",
              "          document.querySelector('#df-5e2bcbaa-f5de-4002-bcb8-893dbca0c941 button.colab-df-convert');\n",
              "        buttonEl.style.display =\n",
              "          google.colab.kernel.accessAllowed ? 'block' : 'none';\n",
              "\n",
              "        async function convertToInteractive(key) {\n",
              "          const element = document.querySelector('#df-5e2bcbaa-f5de-4002-bcb8-893dbca0c941');\n",
              "          const dataTable =\n",
              "            await google.colab.kernel.invokeFunction('convertToInteractive',\n",
              "                                                     [key], {});\n",
              "          if (!dataTable) return;\n",
              "\n",
              "          const docLinkHtml = 'Like what you see? Visit the ' +\n",
              "            '<a target=\"_blank\" href=https://colab.research.google.com/notebooks/data_table.ipynb>data table notebook</a>'\n",
              "            + ' to learn more about interactive tables.';\n",
              "          element.innerHTML = '';\n",
              "          dataTable['output_type'] = 'display_data';\n",
              "          await google.colab.output.renderOutput(dataTable, element);\n",
              "          const docLink = document.createElement('div');\n",
              "          docLink.innerHTML = docLinkHtml;\n",
              "          element.appendChild(docLink);\n",
              "        }\n",
              "      </script>\n",
              "    </div>\n",
              "  </div>\n",
              "  "
            ]
          },
          "metadata": {},
          "execution_count": 54
        }
      ]
    },
    {
      "cell_type": "code",
      "source": [
        "# our querys \n",
        "querys = ['University of Macau' , 'Gambling Game','American Football Game']\n"
      ],
      "metadata": {
        "id": "ACPYpFiC7EgK"
      },
      "execution_count": 65,
      "outputs": []
    },
    {
      "cell_type": "code",
      "source": [
        "# convert query to tf-idf vector\n",
        "def query_to_tfidf_vector(query, words):\n",
        "  q_term = query.lower().split(' ')\n",
        "  query_df = pd.DataFrame(np.zeros((len(vocab), 1)), index = vocab)\n",
        "  for term in q_term:\n",
        "    query_df.loc[term, 0] = 1\n",
        "  query_tfidf = query_df * idf\n",
        "  return query_tfidf"
      ],
      "metadata": {
        "id": "pRgRKEPiq8hu"
      },
      "execution_count": 62,
      "outputs": []
    },
    {
      "cell_type": "code",
      "source": [
        "querys_tfidf =    [query_to_tfidf_vector(query, vocab)  for query in querys ] \n",
        "print(querys_tfidf)"
      ],
      "metadata": {
        "id": "Yf-HjCNqrY8k",
        "colab": {
          "base_uri": "https://localhost:8080/"
        },
        "outputId": "1b02204c-c605-4d25-f3f5-17c87f451834"
      },
      "execution_count": 67,
      "outputs": [
        {
          "output_type": "stream",
          "name": "stdout",
          "text": [
            "[              0\n",
            "comparable  0.0\n",
            "2005        0.0\n",
            "most        0.0\n",
            "grand       0.0\n",
            "work        0.0\n",
            "...         ...\n",
            "1           0.0\n",
            "centers     0.0\n",
            "various     0.0\n",
            "what        0.0\n",
            "mainland    0.0\n",
            "\n",
            "[687 rows x 1 columns],               0\n",
            "comparable  0.0\n",
            "2005        0.0\n",
            "most        0.0\n",
            "grand       0.0\n",
            "work        0.0\n",
            "...         ...\n",
            "1           0.0\n",
            "centers     0.0\n",
            "various     0.0\n",
            "what        0.0\n",
            "mainland    0.0\n",
            "\n",
            "[687 rows x 1 columns],               0\n",
            "comparable  0.0\n",
            "2005        0.0\n",
            "most        0.0\n",
            "grand       0.0\n",
            "work        0.0\n",
            "...         ...\n",
            "1           0.0\n",
            "centers     0.0\n",
            "various     0.0\n",
            "what        0.0\n",
            "mainland    0.0\n",
            "\n",
            "[687 rows x 1 columns]]\n"
          ]
        }
      ]
    },
    {
      "cell_type": "markdown",
      "source": [],
      "metadata": {
        "id": "yExufJ9arP8W"
      }
    },
    {
      "cell_type": "code",
      "source": [
        "# cosine similarity\n",
        "def cosine(a, b):\n",
        "    cos_sim = np.dot(a, b) / (np.linalg.norm(a) * np.linalg.norm(b))\n",
        "    return cos_sim"
      ],
      "metadata": {
        "id": "4ZqiWGcxmmh_"
      },
      "execution_count": 59,
      "outputs": []
    },
    {
      "cell_type": "code",
      "source": [
        "# Find the scores of each doc in query\n",
        "def score_for_query_in_each_doc(query_tfidf):\n",
        "  scores_in_query = []\n",
        "  for i in range(10):\n",
        "    scores_in_query.append(['doc'+str(i+1),cosine(tfidf_mat.iloc[:, i], query_tfidf)] ) \n",
        "  return scores_in_query"
      ],
      "metadata": {
        "id": "AOhBbXV3oxGX"
      },
      "execution_count": 60,
      "outputs": []
    },
    {
      "cell_type": "code",
      "source": [
        "scoress_in_query = [score_for_query_in_each_doc(query_tfidf) for  query_tfidf in querys_tfidf  ]"
      ],
      "metadata": {
        "id": "dYOPN8TVvEEP"
      },
      "execution_count": 68,
      "outputs": []
    },
    {
      "cell_type": "code",
      "source": [
        "# Ranking the score\n",
        "def Ranking(scores_in_query):\n",
        "  scores_in_query.sort(key=lambda x: x[1], reverse=True)\n",
        "  return scores_in_query[0:3]"
      ],
      "metadata": {
        "id": "PeNLRnPIveON"
      },
      "execution_count": 70,
      "outputs": []
    },
    {
      "cell_type": "code",
      "source": [
        "rankings= [ Ranking(scores_in_query) for scores_in_query in scoress_in_query]\n",
        "print(rankings[0])\n",
        "print(rankings[1])\n",
        "print(rankings[2])"
      ],
      "metadata": {
        "colab": {
          "base_uri": "https://localhost:8080/"
        },
        "id": "y_9pM8zLvr_U",
        "outputId": "654d4643-912a-4a72-df82-a5499cbc6237"
      },
      "execution_count": 73,
      "outputs": [
        {
          "output_type": "stream",
          "name": "stdout",
          "text": [
            "[['doc1', array([0.25609208])], ['doc3', array([0.15101564])], ['doc9', array([0.10512846])]]\n",
            "[['doc9', array([0.47951227])], ['doc8', array([0.10449991])], ['doc4', array([0.02329621])]]\n",
            "[['doc8', array([0.2498428])], ['doc6', array([0.03170604])], ['doc7', array([0.02970755])]]\n"
          ]
        }
      ]
    },
    {
      "cell_type": "markdown",
      "source": [
        "# Question 2\n"
      ],
      "metadata": {
        "id": "T_yMIxdRGcW2"
      }
    },
    {
      "cell_type": "markdown",
      "source": [
        "Check the following regular expressions, and find the matched options. Then, provide a brief explanation of the regular expressions."
      ],
      "metadata": {
        "id": "BhstzTf98N4W"
      }
    },
    {
      "cell_type": "markdown",
      "source": [
        "(1) ‘^[A-Z]\\d\\d\\s[3-6]+’\n",
        "\n",
        "[1] ‘B11 234’ [2] ‘bB11 234’ [3] ‘bB11 23z4’"
      ],
      "metadata": {
        "id": "kTnlazgb8WKN"
      }
    },
    {
      "cell_type": "code",
      "source": [
        "import re\n",
        "\n",
        "rule = r'^[A-Z]\\d\\d\\s[3-6]+'\n",
        "p = re.compile(rule)\n",
        "query1 = 'B11 234'\n",
        "query2 = 'bB11 234'\n",
        "query3 = 'bB11 23z4'\n",
        "m = p.match(query3)\n",
        "m"
      ],
      "metadata": {
        "id": "oFko3qH88aBv"
      },
      "execution_count": 75,
      "outputs": []
    },
    {
      "cell_type": "markdown",
      "source": [
        "It has to match a string starting with capital letter, two decimal digits, whitespace and at least one character with 3-6.\n",
        "\n",
        "None of the options match this regular expression."
      ],
      "metadata": {
        "id": "FcVg6OMeAiG5"
      }
    },
    {
      "cell_type": "markdown",
      "source": [
        "(2) ‘db\\d{5}@um\\.edu\\.mo’\n",
        "\n",
        "[1] ‘db123@um.edu.mo [2] ‘dbc123@um.edu.mo’ [3] ‘ab12345@um.edu.mo’"
      ],
      "metadata": {
        "id": "ftitPqQEBG6D"
      }
    },
    {
      "cell_type": "code",
      "source": [
        "import re\n",
        "\n",
        "rule = r'db\\d{5}@um\\.edu\\.mo'\n",
        "p = re.compile(rule)\n",
        "query1 = 'db123@um.edu.mo'\n",
        "query2 = 'dbc123@um.edu.mo'\n",
        "query3 = 'ab12345@um.edu.mo'\n",
        "m = p.match(query3)\n",
        "m"
      ],
      "metadata": {
        "id": "wnH8DtHD9yYq"
      },
      "execution_count": 76,
      "outputs": []
    },
    {
      "cell_type": "markdown",
      "source": [
        "It has to match a string with db, exactly 5 decimal digits and @um.edu.mo\n",
        "\n",
        "None of the options match this regular expression."
      ],
      "metadata": {
        "id": "Y6NL7ymqDExb"
      }
    },
    {
      "cell_type": "markdown",
      "source": [
        "(3) ‘^\\-\\d+\\.\\d{2}’\n",
        "\n",
        "[1] ‘-12.1’ [2] ‘-12.10’ [3] ‘-1.210’"
      ],
      "metadata": {
        "id": "UZozrDOVGswr"
      }
    },
    {
      "cell_type": "code",
      "source": [
        "import re\n",
        "\n",
        "rule = r'^\\-\\d+\\.\\d{2}'\n",
        "p = re.compile(rule)\n",
        "query1 = '-12.1'\n",
        "query2 = '-12.10'\n",
        "query3 = '-1.210'\n",
        "m = p.match(query3)\n",
        "m"
      ],
      "metadata": {
        "colab": {
          "base_uri": "https://localhost:8080/"
        },
        "id": "_oO5wBfe-NQV",
        "outputId": "4941d552-65a9-4b85-8cdf-b8deca830a70"
      },
      "execution_count": 77,
      "outputs": [
        {
          "output_type": "execute_result",
          "data": {
            "text/plain": [
              "<re.Match object; span=(0, 5), match='-1.21'>"
            ]
          },
          "metadata": {},
          "execution_count": 77
        }
      ]
    },
    {
      "cell_type": "markdown",
      "source": [
        "It has to match a string starting with Hyphen(-), at least one decimal digit, a dot(.) and exactly 2 decimal digits.\n",
        "\n",
        "Query 2 matches this regular expression."
      ],
      "metadata": {
        "id": "Eq4tTCVhDlGi"
      }
    },
    {
      "cell_type": "markdown",
      "source": [
        "(4) ‘\\_{2}[a-z]*\\_$’\n",
        "\n",
        "[1] ‘_ab__’ [2] ‘\\__aB_’ [3] ‘__abcdfg_’"
      ],
      "metadata": {
        "id": "xm5fmjn5EFK3"
      }
    },
    {
      "cell_type": "code",
      "source": [
        "import re\n",
        "\n",
        "rule = r'\\_{2}[a-z]*\\_$'\n",
        "p = re.compile(rule)\n",
        "query1 = '_ab__'\n",
        "query2 = '__aB_'\n",
        "query3 = '__abcdfg_'\n",
        "m = p.match(query1)\n",
        "m"
      ],
      "metadata": {
        "id": "Y0P4Mm57Ffua"
      },
      "execution_count": 78,
      "outputs": []
    },
    {
      "cell_type": "markdown",
      "source": [
        "A string with exactly two underscores(\\_), any number of lower letter in between and ending with one underscore(\\_).\n",
        "\n",
        "Query 3 matches this regular expression."
      ],
      "metadata": {
        "id": "XUvR4WHTFCcL"
      }
    },
    {
      "cell_type": "markdown",
      "source": [
        "(5) ‘[a-z|A-Z]+12345\\\\_’\n",
        "\n",
        "[1] ‘ab12345_’ [2] ‘aB12345_’ [3] ‘1a2345_’"
      ],
      "metadata": {
        "id": "HpeUQOpHGx64"
      }
    },
    {
      "cell_type": "code",
      "source": [
        "import re\n",
        "\n",
        "rule = r'[a-z|A-Z]+12345'\n",
        "p = re.compile(rule)\n",
        "query1 = 'ab12345_'\n",
        "query2 = 'aB12345_'\n",
        "query3 = '1a2345_'\n",
        "m = p.match(query1)\n",
        "m"
      ],
      "metadata": {
        "colab": {
          "base_uri": "https://localhost:8080/"
        },
        "id": "41WAS7B3G576",
        "outputId": "ab15d7cd-aa7b-46e3-b286-bf8cddfb81b9"
      },
      "execution_count": 79,
      "outputs": [
        {
          "output_type": "execute_result",
          "data": {
            "text/plain": [
              "<re.Match object; span=(0, 7), match='ab12345'>"
            ]
          },
          "metadata": {},
          "execution_count": 79
        }
      ]
    },
    {
      "cell_type": "markdown",
      "source": [
        "[a-z|A-Z] means all letters no matter uppercase or lower cases \n",
        "[a-z|A-Z]+ means length at least one \n",
        "12345 is just simple text that matched \n",
        "so [a-z|A-Z]+12345 means match there is at least one letter no matter uppercase or lowercase before the text 12345 \n",
        "Query1 and Query2 match this regular expression."
      ],
      "metadata": {
        "id": "lhMO87TBhOFE"
      }
    }
  ]
}